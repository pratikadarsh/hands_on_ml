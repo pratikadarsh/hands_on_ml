{
 "cells": [
  {
   "cell_type": "code",
   "execution_count": 2,
   "id": "accepting-split",
   "metadata": {},
   "outputs": [],
   "source": [
    "#page 667, function for generating univariate time series.\n",
    "import numpy as np\n",
    "def generate_time_series(batch_size, n_steps):\n",
    "    freq1, freq2, offsets1, offsets2 = np.random.rand(4, batch_size, 1)\n",
    "    time = np.linspace(0, 1, n_steps)\n",
    "    series = 0.5 * np.sin((time-offsets1) * (freq1 * 10 + 10)) # wave 1\n",
    "    series += 0.2 * np.sin((time-offsets2) * (freq2 * 20 + 20)) # +wave 2\n",
    "    series += 0.1 * (np.random.rand(batch_size, n_steps) - 0.5) # +noise\n",
    "    return series[..., np.newaxis].astype(np.float32)"
   ]
  },
  {
   "cell_type": "code",
   "execution_count": 3,
   "id": "environmental-siemens",
   "metadata": {},
   "outputs": [],
   "source": [
    "#page 668, create test, train and validation set.\n",
    "n_steps = 50\n",
    "series = generate_time_series(10000, n_steps + 1)\n",
    "X_train, y_train = series[:7000, :n_steps], series[:7000, -1]\n",
    "X_valid, y_valid = series[7000:9000, :n_steps], series[7000:9000, -1]\n",
    "X_test, y_test = series[9000:, :n_steps], series[9000:, -1]"
   ]
  },
  {
   "cell_type": "code",
   "execution_count": 11,
   "id": "architectural-sociology",
   "metadata": {},
   "outputs": [
    {
     "name": "stdout",
     "output_type": "stream",
     "text": [
      "0.0205174\n"
     ]
    }
   ],
   "source": [
    "#page 668, calculating baseline metrics.\n",
    "import keras\n",
    "\n",
    "y_pred = X_valid[:, -1]\n",
    "naive_loss = np.mean(keras.losses.mean_squared_error(y_valid, y_pred))\n",
    "print(naive_loss)"
   ]
  },
  {
   "cell_type": "code",
   "execution_count": 12,
   "id": "binary-singapore",
   "metadata": {},
   "outputs": [
    {
     "name": "stdout",
     "output_type": "stream",
     "text": [
      "Epoch 1/20\n",
      "70/70 [==============================] - 0s 940us/step - loss: 0.2049\n",
      "Epoch 2/20\n",
      "70/70 [==============================] - 0s 916us/step - loss: 0.1015\n",
      "Epoch 3/20\n",
      "70/70 [==============================] - 0s 876us/step - loss: 0.0587\n",
      "Epoch 4/20\n",
      "70/70 [==============================] - 0s 922us/step - loss: 0.0372\n",
      "Epoch 5/20\n",
      "70/70 [==============================] - 0s 975us/step - loss: 0.0256\n",
      "Epoch 6/20\n",
      "70/70 [==============================] - 0s 978us/step - loss: 0.0188\n",
      "Epoch 7/20\n",
      "70/70 [==============================] - 0s 885us/step - loss: 0.0144\n",
      "Epoch 8/20\n",
      "70/70 [==============================] - 0s 905us/step - loss: 0.0115\n",
      "Epoch 9/20\n",
      "70/70 [==============================] - 0s 943us/step - loss: 0.0095\n",
      "Epoch 10/20\n",
      "70/70 [==============================] - 0s 858us/step - loss: 0.0082\n",
      "Epoch 11/20\n",
      "70/70 [==============================] - 0s 941us/step - loss: 0.0074\n",
      "Epoch 12/20\n",
      "70/70 [==============================] - 0s 858us/step - loss: 0.0068\n",
      "Epoch 13/20\n",
      "70/70 [==============================] - 0s 884us/step - loss: 0.0064\n",
      "Epoch 14/20\n",
      "70/70 [==============================] - 0s 968us/step - loss: 0.0061\n",
      "Epoch 15/20\n",
      "70/70 [==============================] - 0s 972us/step - loss: 0.0059\n",
      "Epoch 16/20\n",
      "70/70 [==============================] - 0s 1ms/step - loss: 0.0057\n",
      "Epoch 17/20\n",
      "70/70 [==============================] - 0s 1ms/step - loss: 0.0056\n",
      "Epoch 18/20\n",
      "70/70 [==============================] - 0s 890us/step - loss: 0.0055\n",
      "Epoch 19/20\n",
      "70/70 [==============================] - 0s 984us/step - loss: 0.0054\n",
      "Epoch 20/20\n",
      "70/70 [==============================] - 0s 954us/step - loss: 0.0052\n",
      "0.0049296054\n"
     ]
    }
   ],
   "source": [
    "#page 669, calculating baseline using fully connected layer.\n",
    "model = keras.models.Sequential([\n",
    "    keras.layers.Flatten(input_shape=[50,1]),\n",
    "    keras.layers.Dense(1)\n",
    "])\n",
    "model.compile(optimizer='adam', loss='mse')\n",
    "model.fit(X_train, y_train, batch_size=100, epochs=20)\n",
    "y_pred = model.predict(X_valid)\n",
    "fc_loss = np.mean(keras.losses.mean_squared_error(y_valid, y_pred))\n",
    "print(fc_loss)"
   ]
  },
  {
   "cell_type": "code",
   "execution_count": null,
   "id": "atlantic-boundary",
   "metadata": {},
   "outputs": [],
   "source": []
  }
 ],
 "metadata": {
  "kernelspec": {
   "display_name": "Python 3",
   "language": "python",
   "name": "python3"
  },
  "language_info": {
   "codemirror_mode": {
    "name": "ipython",
    "version": 3
   },
   "file_extension": ".py",
   "mimetype": "text/x-python",
   "name": "python",
   "nbconvert_exporter": "python",
   "pygments_lexer": "ipython3",
   "version": "3.8.5"
  }
 },
 "nbformat": 4,
 "nbformat_minor": 5
}
